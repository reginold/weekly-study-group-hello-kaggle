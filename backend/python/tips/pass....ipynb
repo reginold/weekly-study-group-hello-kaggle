{
 "cells": [
  {
   "cell_type": "code",
   "execution_count": 1,
   "metadata": {},
   "outputs": [
    {
     "data": {
      "text/plain": [
       "'\\n和 pass 再循环中谁更占用时间？\\n和 pass的使用场景区别\\n和 Ellipsis是一个东西吗？有什么区别？\\nid(...) == id(Ellipsis)吗？\\n== True吗？\\n== False吗？\\nbool(...) 会变成什么？\\n'"
      ]
     },
     "execution_count": 1,
     "metadata": {},
     "output_type": "execute_result"
    }
   ],
   "source": [
    "\"\"\"\n",
    "... 和 pass 再循环中谁更占用时间？\n",
    "... 和 pass的使用场景区别\n",
    "... 和 Ellipsis是一个东西吗？有什么区别？\n",
    "id(...) == id(Ellipsis)吗？\n",
    "... == True吗？\n",
    "... == False吗？\n",
    "bool(...) 会变成什么？\n",
    "\"\"\""
   ]
  },
  {
   "cell_type": "code",
   "execution_count": 3,
   "metadata": {},
   "outputs": [
    {
     "name": "stdout",
     "output_type": "stream",
     "text": [
      "Ellipsis\n"
     ]
    }
   ],
   "source": [
    "# ... pass区别 ...是一个对象 pass是一个关键字\n",
    "print(...)\n",
    "# print(pass)"
   ]
  },
  {
   "cell_type": "code",
   "execution_count": 8,
   "metadata": {},
   "outputs": [
    {
     "name": "stdout",
     "output_type": "stream",
     "text": [
      "0.04876904100092361 0.043809875001898035\n"
     ]
    }
   ],
   "source": [
    "# 复数运行对于时间的影响\n",
    "from time import perf_counter\n",
    "N = 1000000\n",
    "t1 = perf_counter()\n",
    "for i in range(N):\n",
    "    ...\n",
    "t2 = perf_counter()\n",
    "for i in range(N):\n",
    "    ...\n",
    "    ...\n",
    "    ...\n",
    "    ...\n",
    "t3 = perf_counter()\n",
    "print(t2-t1,t3-t2)"
   ]
  },
  {
   "cell_type": "code",
   "execution_count": 10,
   "metadata": {},
   "outputs": [
    {
     "name": "stdout",
     "output_type": "stream",
     "text": [
      "27.0506811669984 26.952548916000524\n"
     ]
    }
   ],
   "source": [
    "# ... 和 pass 再循环中谁更占用时间？\n",
    "t1 = perf_counter()\n",
    "N = 1000\n",
    "for i in range(N):\n",
    "    for j in range(N):\n",
    "        for m in range(N):\n",
    "            pass\n",
    "t2 = perf_counter()\n",
    "for i in range(N):\n",
    "    for j in range(N):\n",
    "        for m in range(N):\n",
    "            ...\n",
    "t3 = perf_counter()\n",
    "print(t2-t1,t3-t2)"
   ]
  },
  {
   "cell_type": "code",
   "execution_count": 5,
   "metadata": {},
   "outputs": [
    {
     "name": "stdout",
     "output_type": "stream",
     "text": [
      "Ellipsis\n"
     ]
    }
   ],
   "source": [
    "# ...的额外用法\n",
    "def func(n: ...) -> ...:\n",
    "    return None\n",
    "\n",
    "func(...)"
   ]
  },
  {
   "cell_type": "code",
   "execution_count": 12,
   "metadata": {},
   "outputs": [
    {
     "name": "stdout",
     "output_type": "stream",
     "text": [
      "Ellipsis\n",
      "False\n",
      "False\n",
      "False\n",
      "True\n",
      "True\n"
     ]
    }
   ],
   "source": [
    "# ... Ellipsis区别\n",
    "print(Ellipsis)\n",
    "print(Ellipsis == True)\n",
    "print(Ellipsis == False)\n",
    "print(Ellipsis == None)\n",
    "print(Ellipsis == Ellipsis)\n",
    "print(Ellipsis == ...)\n"
   ]
  },
  {
   "cell_type": "code",
   "execution_count": 7,
   "metadata": {},
   "outputs": [
    {
     "name": "stdout",
     "output_type": "stream",
     "text": [
      "0.03969591700297315 0.08282254199730232\n"
     ]
    }
   ],
   "source": [
    "# Ellipsis ... 运行时间\n",
    "from time import perf_counter\n",
    "N = 1000000\n",
    "t1 = perf_counter()\n",
    "for i in range(N):\n",
    "    ...\n",
    "t2 = perf_counter()\n",
    "for i in range(N):\n",
    "    Ellipsis\n",
    "t3 = perf_counter()\n",
    "print(t2-t1,t3-t2)"
   ]
  },
  {
   "cell_type": "code",
   "execution_count": 16,
   "metadata": {},
   "outputs": [
    {
     "name": "stdout",
     "output_type": "stream",
     "text": [
      "4337719712\n",
      "4337719712\n",
      "4337710432\n",
      "4337628016\n",
      "4337628744\n",
      "True\n"
     ]
    }
   ],
   "source": [
    "# 内存地址是否相同\n",
    "print(id(...))\n",
    "print(id(Ellipsis))\n",
    "print(id(None))\n",
    "print(id(True))\n",
    "print(id(False))\n",
    "print(bool(...))"
   ]
  },
  {
   "cell_type": "code",
   "execution_count": null,
   "metadata": {},
   "outputs": [],
   "source": []
  }
 ],
 "metadata": {
  "kernelspec": {
   "display_name": "Python 3.10.4 ('tf')",
   "language": "python",
   "name": "python3"
  },
  "language_info": {
   "codemirror_mode": {
    "name": "ipython",
    "version": 3
   },
   "file_extension": ".py",
   "mimetype": "text/x-python",
   "name": "python",
   "nbconvert_exporter": "python",
   "pygments_lexer": "ipython3",
   "version": "3.10.4"
  },
  "orig_nbformat": 4,
  "vscode": {
   "interpreter": {
    "hash": "dc1b947dce198ff7f2d2cb152b2cbb61132fce4429fa808fd5b89ac4d7df39fa"
   }
  }
 },
 "nbformat": 4,
 "nbformat_minor": 2
}
